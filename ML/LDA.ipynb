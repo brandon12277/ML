{
 "cells": [
  {
   "cell_type": "markdown",
   "id": "f8648f3e-1bc1-46ca-a53f-9f4f0dc36ec7",
   "metadata": {},
   "source": [
    "## Linear dimensianality Analysis\n",
    "In this other than finding the componenent axis we also try to find the maximum separation between the classes"
   ]
  },
  {
   "cell_type": "code",
   "execution_count": null,
   "id": "f6c6cede-4548-4ae8-b28b-b500dd357cbb",
   "metadata": {},
   "outputs": [],
   "source": []
  }
 ],
 "metadata": {
  "kernelspec": {
   "display_name": "Python 3 (ipykernel)",
   "language": "python",
   "name": "python3"
  },
  "language_info": {
   "codemirror_mode": {
    "name": "ipython",
    "version": 3
   },
   "file_extension": ".py",
   "mimetype": "text/x-python",
   "name": "python",
   "nbconvert_exporter": "python",
   "pygments_lexer": "ipython3",
   "version": "3.8.6"
  }
 },
 "nbformat": 4,
 "nbformat_minor": 5
}
