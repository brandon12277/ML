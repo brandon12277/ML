{
 "cells": [
  {
   "cell_type": "markdown",
   "id": "9f73a896-df89-4e92-a58c-fc614970f95f",
   "metadata": {},
   "source": [
    "# Regression\n",
    "It a supervised machine learning algorithm which used to process continous data.\n",
    "Its ultimate goal is to create a best fit line or curve which accuratley represents the data\n"
   ]
  },
  {
   "cell_type": "markdown",
   "id": "e211590a-8667-417b-a9e3-f544a041e410",
   "metadata": {},
   "source": [
    "# The types of regression are : \n"
   ]
  },
  {
   "cell_type": "markdown",
   "id": "b2922291-7164-4f33-ad8f-43daf7eebc18",
   "metadata": {},
   "source": [
    "## 1. Simple Regression\n",
    "In this type we have single independent variable and a single dependent variable represemnting a simple line\n",
    "y= ax+b\n",
    "\n",
    "x - independent variable\n",
    "y - dependent variable\n",
    "\n",
    "Thus used when a single variable determines the output and thus the best fit line is a simple line"
   ]
  },
  {
   "cell_type": "markdown",
   "id": "e771782c-02f8-43bf-a678-efdd24c3ee05",
   "metadata": {},
   "source": [
    "### Ordinary least squares\n",
    "\n",
    "Now how do we dteremine which line is the best fit for a particular plotted data set .\n",
    "To find the best line which determines the result we use a method called ordinary least sqaures\n",
    "\n",
    "We thus first determine the distance between a line and each point in the plotted data\n",
    "We thus then get two points Yi and Y^i where Yi is Original data point and Y^i is the point result from the extension of Yi on the line used for regression.\n",
    "\n",
    "Thus difference between Yi and Y^i determines difference in orignal and predicted value called residual(e)\n",
    "e=Yi-Y^i\n",
    "\n",
    "thus the line where  the residual is minimized is the best fit line\n",
    "\n",
    "Thus the summation of the squares of the residual should be minimised to the least possible form and that particular line is considered best fit line\n",
    "SUM(Yi-Y^i)^2"
   ]
  },
  {
   "cell_type": "markdown",
   "id": "6d584aa1-f7f5-40c2-89ff-3d81bd2b77ff",
   "metadata": {},
   "source": [
    "## 2. Multiple Linear Regression"
   ]
  },
  {
   "cell_type": "markdown",
   "id": "d45762a1-c1f3-4623-9adf-809d2cd7b022",
   "metadata": {},
   "source": [
    "In this we have multiple independent variables as compared to linear regression \n",
    "However number of dependent variables is only one.\n",
    "\n",
    "Ex y= ax1 + bx2 + cx2 + d"
   ]
  },
  {
   "cell_type": "markdown",
   "id": "d7205c67-a1ae-4a60-aaea-2d8a873ee675",
   "metadata": {},
   "source": [
    "## 3. Polynomial Linear Regression\n",
    "In thus we have 1 independent variable however the regression best fit is a curve of varying degree and not a basic line."
   ]
  },
  {
   "cell_type": "markdown",
   "id": "49a2d2e6-b5e4-4135-9f35-60162dd0e30b",
   "metadata": {},
   "source": [
    "## 4 .SVR\n",
    "\n",
    "In this unlike other regression models we provide a buffer for to allow a margin of error.\n",
    "Thus in this we create a hyperplane of epsilon width measured vertically called epsilon insensitive tube within which data points plotted are \n",
    "ignored alllwoing a certain margin of error"
   ]
  },
  {
   "cell_type": "markdown",
   "id": "2cb7ef5b-96d6-48b0-8d96-2e128f362994",
   "metadata": {},
   "source": [
    "the central line of tyhe plane is called hyperplane while the ends is known as descion boundary\n",
    "the goal is to maximize the margin between the hyperplane and minimize the error"
   ]
  },
  {
   "cell_type": "markdown",
   "id": "95fba397-6146-472e-b6e5-c155bdacd6ea",
   "metadata": {},
   "source": [
    "## 5. Descion tree regression\n",
    "splits dataset based on descioins\n",
    "not good for single feature dataset"
   ]
  },
  {
   "cell_type": "code",
   "execution_count": null,
   "id": "ff8dda0a-0a7b-40c0-a369-e3d12a702a6c",
   "metadata": {},
   "outputs": [],
   "source": []
  }
 ],
 "metadata": {
  "kernelspec": {
   "display_name": "Python 3 (ipykernel)",
   "language": "python",
   "name": "python3"
  },
  "language_info": {
   "codemirror_mode": {
    "name": "ipython",
    "version": 3
   },
   "file_extension": ".py",
   "mimetype": "text/x-python",
   "name": "python",
   "nbconvert_exporter": "python",
   "pygments_lexer": "ipython3",
   "version": "3.8.6"
  }
 },
 "nbformat": 4,
 "nbformat_minor": 5
}
