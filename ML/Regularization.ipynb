{
 "cells": [
  {
   "cell_type": "markdown",
   "id": "66fd50dc-b88d-442a-a4e9-0608de560b65",
   "metadata": {},
   "source": [
    "## Data fitting\n",
    "The process of plotting data points and finding the best fit line which represents the dataset is called data fitting\n",
    "\n",
    "## Mean squared error or loss function\n",
    "It the process of taking the sum of the distance between data points and the regression line and fidnig its mean.\n",
    "\n",
    "## Bias\n",
    "It is when an algorithm has limited flexibilty to learn from the data\n",
    "Such models pay less attention to the training data and and oversimplyfy the model \n",
    "Leds to high error on training and test data\n",
    "\n",
    "## variance\n",
    "Defines algorithms senstivity to specific sets of data\n",
    "Models with high variance pays attention to trainig data and generalizes thus avoiding validation error or prediction error\n",
    "Perform well on training data and bad on test data\n"
   ]
  },
  {
   "cell_type": "markdown",
   "id": "b1a13d61-8270-4111-b5b9-82bd70f6eae8",
   "metadata": {},
   "source": [
    "## What is Data Overfitting?\n",
    "It is a condition in which the model tries to fit every single point on the dataset\n",
    "Occurs when dataset has alot of garbage values\n",
    "\n",
    "## Underfitting ?\n",
    "A model which has oversimplified the learning phase and is thus not  in par with the dataset and cannot predict values accuratley\n",
    "takes place when dataset is not cleaned,has high bias"
   ]
  },
  {
   "cell_type": "markdown",
   "id": "d8a50807-f74d-43b4-88c1-338a5313036b",
   "metadata": {},
   "source": [
    "# Regularization\n",
    "\n",
    "It is therefore the process to calibrate regression models to minimize loss function and prevent over or under fitting"
   ]
  },
  {
   "cell_type": "markdown",
   "id": "fa0bc9d3-0905-495f-9cdb-94bf46700eb1",
   "metadata": {},
   "source": [
    "### Ridge Regression\n",
    "here we add penalties equvivalent to the sum of the square of the coeffecients\n",
    "Useful when we have many variables\n",
    "\n",
    "## Lasso regression\n",
    "Usefull when we have lesser varaibkles and encourages converengce towards zero."
   ]
  },
  {
   "cell_type": "code",
   "execution_count": null,
   "id": "fdcb2e12-2eea-4152-9bbb-5692066e8f72",
   "metadata": {},
   "outputs": [],
   "source": []
  }
 ],
 "metadata": {
  "kernelspec": {
   "display_name": "Python 3 (ipykernel)",
   "language": "python",
   "name": "python3"
  },
  "language_info": {
   "codemirror_mode": {
    "name": "ipython",
    "version": 3
   },
   "file_extension": ".py",
   "mimetype": "text/x-python",
   "name": "python",
   "nbconvert_exporter": "python",
   "pygments_lexer": "ipython3",
   "version": "3.8.6"
  }
 },
 "nbformat": 4,
 "nbformat_minor": 5
}
