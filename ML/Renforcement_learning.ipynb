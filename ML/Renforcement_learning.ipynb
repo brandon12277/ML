{
 "cells": [
  {
   "cell_type": "markdown",
   "id": "e67907b3-bd33-48d5-a99c-178034f59fff",
   "metadata": {},
   "source": [
    "# Reinforcement Learning\n",
    "\n",
    "Reinforcement learning is a machine learning training method based on rewarding desired behaviors and punishing undesired ones. In general, a reinforcement learning agent -- the entity being trained -- \n",
    "is able to perceive and interpret its environment, take actions and learn through trial and error"
   ]
  },
  {
   "cell_type": "markdown",
   "id": "9fc6e6d6-5ef3-4eb3-b123-fc18912ca05c",
   "metadata": {},
   "source": [
    "## Upper Confidence Bound"
   ]
  },
  {
   "cell_type": "code",
   "execution_count": null,
   "id": "37af6057-6353-4731-bf89-41df2fe6ace6",
   "metadata": {},
   "outputs": [],
   "source": [
    "import pandas as pd\n",
    "import matplotlib.pyp0lot as plt\n",
    "import numpy as np"
   ]
  },
  {
   "cell_type": "code",
   "execution_count": null,
   "id": "0c2b312a-d3ee-4f72-a30e-0c1c1a0627f5",
   "metadata": {},
   "outputs": [],
   "source": [
    "dataset = pd.read_csv(\"Ads_CTR_Optimisation.csv\")"
   ]
  },
  {
   "cell_type": "code",
   "execution_count": null,
   "id": "90a0987f-93b5-4ad3-859b-2e5900318a00",
   "metadata": {},
   "outputs": [],
   "source": [
    "N = 10000\n",
    "d = 10\n",
    "ads_selected = []\n",
    "num_of selections = [0] * d\n",
    "sum_of_rewards = [0] * d\n",
    "tot_rewards = 0\n",
    "\n",
    "for n in range(0,N):\n",
    "    \n",
    "    "
   ]
  }
 ],
 "metadata": {
  "kernelspec": {
   "display_name": "Python 3 (ipykernel)",
   "language": "python",
   "name": "python3"
  },
  "language_info": {
   "codemirror_mode": {
    "name": "ipython",
    "version": 3
   },
   "file_extension": ".py",
   "mimetype": "text/x-python",
   "name": "python",
   "nbconvert_exporter": "python",
   "pygments_lexer": "ipython3",
   "version": "3.8.6"
  }
 },
 "nbformat": 4,
 "nbformat_minor": 5
}
