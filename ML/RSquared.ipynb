{
 "cells": [
  {
   "cell_type": "markdown",
   "id": "ca7824b5-bea9-4b8c-8031-2e7d267b7c6d",
   "metadata": {},
   "source": [
    "# R squared"
   ]
  },
  {
   "cell_type": "markdown",
   "id": "36bb03c2-09f0-4c02-a7a4-6a5c05f13e00",
   "metadata": {},
   "source": [
    "We first plot a regression line representing the best fit line\n",
    "We then plot the second regression line representing the average line\n",
    "\n",
    "We then calculate the least mean squares for the first one called \n",
    "residual squared function(RRres)=SUM(y-yi)^2\n",
    "\n",
    "and the least mean squares for the second one using average line called\n",
    "total squared function (RRtot)=SUM(y-yavg)^2\n",
    "\n",
    "R squared(R^2) = 1-(SSres/SStot)"
   ]
  },
  {
   "cell_type": "markdown",
   "id": "b1084990-505c-4861-adc1-685ea53b2bfd",
   "metadata": {},
   "source": [
    "if Rsquared values is:\n",
    "\n",
    "1. 1 - best model,suspicious as it would mean line passes throught all points\n",
    "2. 0.9 - very good model\n",
    "3. <0.7 - not good  model\n",
    "4. <0.4 - terrible model\n",
    "5. <0 - makes no sense to use it"
   ]
  },
  {
   "cell_type": "code",
   "execution_count": null,
   "id": "6bd5167f-d2b5-4cc6-8ad4-2b8a9007cbe6",
   "metadata": {},
   "outputs": [],
   "source": []
  }
 ],
 "metadata": {
  "kernelspec": {
   "display_name": "Python 3 (ipykernel)",
   "language": "python",
   "name": "python3"
  },
  "language_info": {
   "codemirror_mode": {
    "name": "ipython",
    "version": 3
   },
   "file_extension": ".py",
   "mimetype": "text/x-python",
   "name": "python",
   "nbconvert_exporter": "python",
   "pygments_lexer": "ipython3",
   "version": "3.8.6"
  }
 },
 "nbformat": 4,
 "nbformat_minor": 5
}
