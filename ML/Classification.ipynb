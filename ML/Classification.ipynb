{
 "cells": [
  {
   "cell_type": "markdown",
   "id": "b3421878-a33c-49a8-9b85-064d9f9a4769",
   "metadata": {},
   "source": [
    "# Classification\n",
    "Ability to identify the category of new observations based on the categories identified in the training dataset"
   ]
  },
  {
   "cell_type": "markdown",
   "id": "3f6c6e44-6392-41cd-a13a-b40a9be5d8dd",
   "metadata": {},
   "source": [
    "It thus categorizies data and it used for choice based outcomes where we have a certain number of discrete values as the dependent variable \n",
    "and with respect to the position of the data point we decide the outcome"
   ]
  },
  {
   "cell_type": "markdown",
   "id": "d16e0fda-280d-4d9b-b287-02183e6c2089",
   "metadata": {},
   "source": [
    "## Logistic Regression\n",
    "\n",
    "ln(p/1-p) = a + bx\n",
    "\n",
    "where p is the probability with respect to the occurence of a specific disrete value\n",
    "(for one independent variable)"
   ]
  },
  {
   "cell_type": "markdown",
   "id": "b126be3c-fec7-4aa1-a41e-bd919ae678e0",
   "metadata": {},
   "source": [
    "## Maximum likelihood\n",
    "\n",
    "Lets say we implemented and plotted the dataset for a classification problem\n",
    "And we have plotted a classification curve to satisfy the problem\n",
    "\n",
    "likeihood = (product of all p)*product of all(1-p)\n",
    "\n",
    "the one with the best likelihood is considered the best curve"
   ]
  },
  {
   "cell_type": "code",
   "execution_count": null,
   "id": "7acd75a7-e722-4509-8db4-fa7a987371e8",
   "metadata": {},
   "outputs": [],
   "source": []
  }
 ],
 "metadata": {
  "kernelspec": {
   "display_name": "Python 3 (ipykernel)",
   "language": "python",
   "name": "python3"
  },
  "language_info": {
   "codemirror_mode": {
    "name": "ipython",
    "version": 3
   },
   "file_extension": ".py",
   "mimetype": "text/x-python",
   "name": "python",
   "nbconvert_exporter": "python",
   "pygments_lexer": "ipython3",
   "version": "3.8.6"
  }
 },
 "nbformat": 4,
 "nbformat_minor": 5
}
