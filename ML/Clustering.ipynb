{
 "cells": [
  {
   "cell_type": "markdown",
   "id": "83e4de07-74b7-4984-859c-0edf7ef1614b",
   "metadata": {},
   "source": [
    "# Clustering"
   ]
  },
  {
   "cell_type": "markdown",
   "id": "3185d505-a412-480c-aaca-a5291b91fd54",
   "metadata": {},
   "source": [
    "It is an unsupervised form of machine learning where we group unlablled data based on \n",
    "certain patterns and similarities in the data"
   ]
  },
  {
   "cell_type": "markdown",
   "id": "b0fdf34d-77a4-4af5-bb20-b9ccfca93f0e",
   "metadata": {},
   "source": [
    "An unsupervised learning method is a method in which we draw references from datasets consisting of input data without labeled responses. Generally, it is used as a process to find meaningful structure, explanatory underlying processes, generative features, and groupings inherent in a set of examples.\n",
    "\n",
    "Clustering is the task of dividing the population or data points into a number of groups such that data points in the same groups are more similar to other data points in the same group and dissimilar to the data points in other groups. It is basically a collection of objects on the basis of similarity and dissimilarity between them. "
   ]
  },
  {
   "cell_type": "markdown",
   "id": "89befcd9-c9bd-4977-9c19-22a8420cbef4",
   "metadata": {},
   "source": [
    "## K - means clustering"
   ]
  },
  {
   "cell_type": "markdown",
   "id": "a3fc8f99-89a5-4b86-bc8c-ff716bac2382",
   "metadata": {},
   "source": [
    "K-Means Clustering is an Unsupervised Learning algorithm, which groups the unlabeled dataset into different clusters. \n",
    "Here K defines the number of pre-defined clusters that need to be created in the process, \n",
    "as if K=2, there will be two clusters, and for K=3, there will be three clusters, and so on.\n",
    "\n",
    "In this algorithm we first assign randomly K poinst called a centroid in the data set.\n",
    "With respect to this centroid point the dataset is split into k groups.Now for each k group we \n",
    "find the average of all the x coordinates and y coordinates and calculate the new centroid.the grouping takes place again and again until we\n",
    "reach a point where there is no change in position of centroid and thats our final cluster,"
   ]
  },
  {
   "cell_type": "markdown",
   "id": "ba115f41-bda3-4f8f-9581-6f72d62e7921",
   "metadata": {},
   "source": [
    "WCSS = summation of(Pi,C1)^2 + summation of(Pi,C2)^2 ......\n",
    "the higher the WCSS the lower the number of clusters and lesser is the distribution\n"
   ]
  },
  {
   "cell_type": "code",
   "execution_count": null,
   "id": "d345e28b-9a9d-4828-ba98-ec0e5bc5932f",
   "metadata": {},
   "outputs": [],
   "source": []
  }
 ],
 "metadata": {
  "kernelspec": {
   "display_name": "Python 3 (ipykernel)",
   "language": "python",
   "name": "python3"
  },
  "language_info": {
   "codemirror_mode": {
    "name": "ipython",
    "version": 3
   },
   "file_extension": ".py",
   "mimetype": "text/x-python",
   "name": "python",
   "nbconvert_exporter": "python",
   "pygments_lexer": "ipython3",
   "version": "3.8.6"
  }
 },
 "nbformat": 4,
 "nbformat_minor": 5
}
